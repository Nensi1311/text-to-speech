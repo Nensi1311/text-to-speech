{
 "cells": [
  {
   "cell_type": "markdown",
   "id": "e9a9a49e",
   "metadata": {},
   "source": [
    "Step 1: Set Up Your Environment"
   ]
  },
  {
   "cell_type": "code",
   "execution_count": 2,
   "id": "c2e5e65b",
   "metadata": {},
   "outputs": [],
   "source": [
    "# pip install pytesseract pillow opencv-python gTTS playsound"
   ]
  },
  {
   "cell_type": "markdown",
   "id": "d140fdd0",
   "metadata": {},
   "source": [
    "Step 2: Load and Preprocess the Image"
   ]
  },
  {
   "cell_type": "code",
   "execution_count": 3,
   "id": "ef3face1",
   "metadata": {},
   "outputs": [],
   "source": [
    "from PIL import Image\n",
    "import cv2\n",
    "import pytesseract"
   ]
  },
  {
   "cell_type": "code",
   "execution_count": 4,
   "id": "a7f5ae93",
   "metadata": {},
   "outputs": [],
   "source": [
    "# specify the Tesseract path\n",
    "pytesseract.pytesseract.tesseract_cmd = r'C:\\Program Files\\Tesseract-OCR\\tesseract.exe'"
   ]
  },
  {
   "cell_type": "code",
   "execution_count": 6,
   "id": "7f164a20",
   "metadata": {},
   "outputs": [],
   "source": [
    "# Load image using OpenCV\n",
    "image = cv2.imread(\"input_image.jpg\")\n",
    "gray = cv2.cvtColor(image, cv2.COLOR_BGR2GRAY)"
   ]
  },
  {
   "cell_type": "code",
   "execution_count": 7,
   "id": "2f71ba46",
   "metadata": {},
   "outputs": [],
   "source": [
    "# Optional: Apply thresholding for better OCR\n",
    "gray = cv2.threshold(gray, 0, 255, cv2.THRESH_BINARY + cv2.THRESH_OTSU)[1]"
   ]
  },
  {
   "cell_type": "code",
   "execution_count": 8,
   "id": "117028ce",
   "metadata": {},
   "outputs": [
    {
     "data": {
      "text/plain": [
       "True"
      ]
     },
     "execution_count": 8,
     "metadata": {},
     "output_type": "execute_result"
    }
   ],
   "source": [
    "# Save the processed image\n",
    "cv2.imwrite(\"processed_image.png\", gray)"
   ]
  },
  {
   "cell_type": "markdown",
   "id": "cb1afe0e",
   "metadata": {},
   "source": [
    "Step 3: Perform OCR to Extract Text"
   ]
  },
  {
   "cell_type": "code",
   "execution_count": 9,
   "id": "b8c51329",
   "metadata": {},
   "outputs": [
    {
     "name": "stdout",
     "output_type": "stream",
     "text": [
      "Extracted Text:\n",
      " “MAKE TEXT\n",
      "STAND OUT FROM\n",
      "BACKGROUNDS *7_ *\n",
      "\n"
     ]
    }
   ],
   "source": [
    "# Use pytesseract to extract text\n",
    "text = pytesseract.image_to_string(Image.open(\"processed_image.png\"))\n",
    "print(\"Extracted Text:\\n\", text)"
   ]
  },
  {
   "cell_type": "markdown",
   "id": "3fc0d890",
   "metadata": {},
   "source": [
    "Step 4: Convert Extracted Text to Speech"
   ]
  },
  {
   "cell_type": "code",
   "execution_count": 10,
   "id": "53b58ce4",
   "metadata": {},
   "outputs": [],
   "source": [
    "from gtts import gTTS\n",
    "from playsound import playsound"
   ]
  },
  {
   "cell_type": "code",
   "execution_count": 11,
   "id": "d29993be",
   "metadata": {},
   "outputs": [],
   "source": [
    "tts = gTTS(text=text, lang='en')\n",
    "tts.save(\"output_audio_image.mp3\")"
   ]
  },
  {
   "cell_type": "code",
   "execution_count": 12,
   "id": "9005b283",
   "metadata": {},
   "outputs": [],
   "source": [
    "# Play the audio\n",
    "playsound(\"output_audio_image.mp3\")"
   ]
  },
  {
   "cell_type": "code",
   "execution_count": null,
   "id": "e5307f8b",
   "metadata": {},
   "outputs": [],
   "source": []
  }
 ],
 "metadata": {
  "kernelspec": {
   "display_name": "Python 3",
   "language": "python",
   "name": "python3"
  },
  "language_info": {
   "codemirror_mode": {
    "name": "ipython",
    "version": 3
   },
   "file_extension": ".py",
   "mimetype": "text/x-python",
   "name": "python",
   "nbconvert_exporter": "python",
   "pygments_lexer": "ipython3",
   "version": "3.11.7"
  }
 },
 "nbformat": 4,
 "nbformat_minor": 5
}
